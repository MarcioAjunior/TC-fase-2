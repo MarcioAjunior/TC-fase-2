{
 "cells": [
  {
   "cell_type": "code",
   "execution_count": null,
   "metadata": {},
   "outputs": [],
   "source": [
    "%%sql\n",
    "SELECT count(*) FROM `db-tc-fase-2`.`jobglue`"
   ]
  },
  {
   "cell_type": "code",
   "execution_count": null,
   "metadata": {},
   "outputs": [],
   "source": [
    "import pandas as pd\n",
    "import matplotlib.pyplot as plt\n",
    "from pyathena import connect"
   ]
  },
  {
   "cell_type": "code",
   "execution_count": null,
   "metadata": {},
   "outputs": [],
   "source": [
    "conn = connect(\n",
    "    s3_staging_dir='s3://fiap-tc-fase2-ml/REFINED/',\n",
    "    region_name='us-east-1',\n",
    ")"
   ]
  },
  {
   "cell_type": "code",
   "execution_count": null,
   "metadata": {},
   "outputs": [],
   "source": [
    "query = \"\"\"\n",
    "SELECT action, avg_qtty_theory\n",
    "FROM \"db-tc-fase-2\".\"jobglue\"\n",
    "\"\"\""
   ]
  },
  {
   "cell_type": "code",
   "execution_count": null,
   "metadata": {},
   "outputs": [],
   "source": [
    "df = pd.read_sql(query, conn)"
   ]
  },
  {
   "cell_type": "code",
   "execution_count": null,
   "metadata": {},
   "outputs": [],
   "source": [
    "ax = df.plot(kind=\"bar\", x=\"action\", y=\"avg_qtty_theory\", figsize=(50,20))\n",
    "\n",
    "ax.barh(df['action'], df['avg_qtty_theory'])\n",
    "\n",
    "#plt.rcParams['figure.figsize'] = (12, 8)\n",
    "\n",
    "plt.xlabel('Ações')\n",
    "plt.ylabel('Média da quantidade téorica', fontsize=50)\n",
    "plt.title('Quantidade média teórica por ação', fontsize=50)\n",
    "plt.legend(['Qtd média teórica'], fontsize=50)\n",
    "plt.xticks(fontsize=30)\n",
    "plt.tight_layout()\n",
    "\n",
    "\n",
    "plt.show()\n",
    "%matplot plt"
   ]
  }
 ],
 "metadata": {
  "language_info": {
   "name": "python"
  }
 },
 "nbformat": 4,
 "nbformat_minor": 2
}
